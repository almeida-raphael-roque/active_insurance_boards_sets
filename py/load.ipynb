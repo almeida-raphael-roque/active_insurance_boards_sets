{
 "cells": [
  {
   "cell_type": "code",
   "execution_count": null,
   "id": "79dbe46f",
   "metadata": {},
   "outputs": [],
   "source": [
    "import pandas as pd\n",
    "import awswrangler as awr\n",
    "import openpyxl"
   ]
  },
  {
   "cell_type": "code",
   "execution_count": 77,
   "id": "c0e90eac",
   "metadata": {},
   "outputs": [],
   "source": [
    "sql_path = r\"C:\\Users\\raphael.almeida\\Documents\\Processos\\conjuntos_placas_ativos\\sql\\conjuntos_ativos.sql\"\n",
    "with open (sql_path, 'r') as file:\n",
    "    query = file.read()\n",
    "\n",
    "df = awr.athena.read_sql_query(query, database='silver')"
   ]
  },
  {
   "cell_type": "markdown",
   "id": "65f064a6",
   "metadata": {},
   "source": [
    "removendo duplicatas"
   ]
  },
  {
   "cell_type": "code",
   "execution_count": 81,
   "id": "eddbe359",
   "metadata": {},
   "outputs": [],
   "source": [
    "df_total = df.drop_duplicates(subset=['placa'])"
   ]
  },
  {
   "cell_type": "markdown",
   "id": "6ba5129d",
   "metadata": {},
   "source": [
    "# VALIDAÇÃO CONJUNTOS"
   ]
  },
  {
   "cell_type": "markdown",
   "id": "ed56b045",
   "metadata": {},
   "source": [
    "data"
   ]
  },
  {
   "cell_type": "code",
   "execution_count": 29,
   "id": "9bf2bc55",
   "metadata": {},
   "outputs": [
    {
     "name": "stdout",
     "output_type": "stream",
     "text": [
      "2025-07-14 00:00:00\n"
     ]
    }
   ],
   "source": [
    "today = pd.Timestamp.today().normalize()\n",
    "yesterday = today - pd.Timedelta(1, unit='day')\n",
    "friday = today - pd.Timedelta(3, unit='day')\n",
    "\n",
    "if today.day == 0:\n",
    "    date = friday\n",
    "else:\n",
    "    date = yesterday\n",
    "\n",
    "print(date)"
   ]
  },
  {
   "cell_type": "markdown",
   "id": "bfcf95fe",
   "metadata": {},
   "source": [
    "df_validacao (dia anterior)"
   ]
  },
  {
   "cell_type": "code",
   "execution_count": 32,
   "id": "0522d6d6",
   "metadata": {},
   "outputs": [
    {
     "data": {
      "text/plain": [
       "cooperativa\n",
       "Viavante    54\n",
       "Stcoop      12\n",
       "Name: count, dtype: int64"
      ]
     },
     "execution_count": 32,
     "metadata": {},
     "output_type": "execute_result"
    }
   ],
   "source": [
    "df['data_registro'] = pd.to_datetime(df['data_registro']).dt.normalize()\n",
    "df_validacao = df[df['data_registro']==date]\n",
    "df_validacao.value_counts(subset='cooperativa')"
   ]
  },
  {
   "cell_type": "markdown",
   "id": "eb5e3b8c",
   "metadata": {},
   "source": [
    "df_validacao2 (dia 8) - dia que bateu exato (porquê?)"
   ]
  },
  {
   "cell_type": "code",
   "execution_count": 67,
   "id": "c3e4b3aa",
   "metadata": {},
   "outputs": [
    {
     "data": {
      "text/plain": [
       "Series([], Name: count, dtype: int64)"
      ]
     },
     "execution_count": 67,
     "metadata": {},
     "output_type": "execute_result"
    }
   ],
   "source": [
    "random_date = pd.to_datetime('2025-07-08').normalize()  \n",
    "df_validacao2 = df[df['data_registro']==random_date]\n",
    "df_validacao2.value_counts(subset='cooperativa')\n",
    "#df_validacao2[df_validacao2['cooperativa']=='Viavante'].value_counts('status')"
   ]
  },
  {
   "cell_type": "markdown",
   "id": "b6f63d61",
   "metadata": {},
   "source": [
    "df_validacao3 (dia aleatório)"
   ]
  },
  {
   "cell_type": "code",
   "execution_count": 39,
   "id": "6af92df8",
   "metadata": {},
   "outputs": [
    {
     "data": {
      "text/plain": [
       "status\n",
       "ATIVO          65\n",
       "NOVO           25\n",
       "SUBSTITUÍDO     1\n",
       "Name: count, dtype: int64"
      ]
     },
     "execution_count": 39,
     "metadata": {},
     "output_type": "execute_result"
    }
   ],
   "source": [
    "random_date = pd.to_datetime('2025-07-08').normalize()  \n",
    "df_validacao3 = df[df['data_registro']==random_date]\n",
    "#df_validacao3.value_counts(subset='cooperativa')\n",
    "df_validacao3[df_validacao3['cooperativa']=='Viavante'].value_counts('status')"
   ]
  },
  {
   "cell_type": "markdown",
   "id": "48683807",
   "metadata": {},
   "source": [
    "# GERANDO PLACAS ATIVAS"
   ]
  },
  {
   "cell_type": "code",
   "execution_count": 82,
   "id": "03e5c49a",
   "metadata": {},
   "outputs": [
    {
     "data": {
      "text/plain": [
       "32242"
      ]
     },
     "execution_count": 82,
     "metadata": {},
     "output_type": "execute_result"
    }
   ],
   "source": [
    "df_total[df_total['status']=='ATIVO'].count()\n",
    "\n",
    "df_total['placa'].nunique()"
   ]
  },
  {
   "cell_type": "markdown",
   "id": "a6944058",
   "metadata": {},
   "source": [
    "### PLACAS POR EMPRESA"
   ]
  },
  {
   "cell_type": "code",
   "execution_count": 86,
   "id": "8e54775e",
   "metadata": {},
   "outputs": [
    {
     "name": "stdout",
     "output_type": "stream",
     "text": [
      "Total de placas: 32.242\n",
      "Placas Segtruck: 2.215\n",
      "Placas Stcoop: 4.993\n",
      "Placas Viavante: 25.034\n"
     ]
    }
   ],
   "source": [
    "placas_totais = df_total['placa'].nunique()\n",
    "placas_segtruck = df_total[df_total['empresa']=='Segtruck']['placa'].count()\n",
    "placas_stcoop = df_total[df_total['empresa']=='Stcoop']['placa'].count()\n",
    "placas_viavante = df_total[df_total['empresa']=='Viavante']['placa'].count()\n",
    "\n",
    "print(\"Total de placas:\", f\"{placas_totais:,}\".replace(\",\", \".\"))\n",
    "print(\"Placas Segtruck:\", f\"{placas_segtruck:,}\".replace(\",\", \".\"))\n",
    "print(\"Placas Stcoop:\", f\"{placas_stcoop:,}\".replace(\",\", \".\"))\n",
    "print(\"Placas Viavante:\", f\"{placas_viavante:,}\".replace(\",\", \".\"))"
   ]
  },
  {
   "cell_type": "markdown",
   "id": "59726ddc",
   "metadata": {},
   "source": [
    "# ENVIANDO POR E-MAIL"
   ]
  },
  {
   "cell_type": "code",
   "execution_count": null,
   "id": "350163f6",
   "metadata": {},
   "outputs": [
    {
     "name": "stdout",
     "output_type": "stream",
     "text": [
      "Email enviado com sucesso!\n"
     ]
    }
   ],
   "source": [
    "import win32com.client as win32\n",
    "import pythoncom\n",
    "from datetime import datetime\n",
    "\n",
    "pythoncom.CoInitialize()\n",
    "\n",
    "date = date.strftime('%d/%m/%Y')\n",
    "\n",
    "outlook = win32.Dispatch(\"Outlook.Application\")\n",
    "email = outlook.CreateItem(0)\n",
    "email.To = \"dados13@grupounus.com.br\"#; supervisao.dados@grupounus.com.br; dados03@grupounus.com.br\"\n",
    "email.Subject = f'[PLACAS ATIVAS POR EMPRESA] - DATA:{date}'\n",
    "email.HTMLBody = f\"\"\"\n",
    "    <html>\n",
    "    <body>\n",
    "        <p>Prezados(as),</p>\n",
    "        <p>A seguir, a quantidade de placas ativas por empresa, no dia {date}:</p>\n",
    "        <ul>\n",
    "            <li><b>SEGTRUCK:</b> {f\"{placas_segtruck:,}\".replace(\",\", \".\")}</li>\n",
    "            <li><b>STCOOP:</b> {f\"{placas_stcoop:,}\".replace(\",\", \".\")}</li>\n",
    "            <li><b>VIAVANTE:</b> {f\"{placas_viavante:,}\".replace(\",\", \".\")}</li>\n",
    "            <li><b>TOTAL:</b> {f\"{placas_totais:,}\".replace(\",\", \".\")}</li>\n",
    "        </ul>\n",
    "        <p>Atenciosamente,</p>\n",
    "        <p>Equipe Análise de Dados - Grupo Unus</p>\n",
    "        <p><i>Este é um e-mail automático, por favor não responda</i></p>\n",
    "    </body>\n",
    "    </html>\n",
    "\"\"\"\n",
    "\n",
    "email.Send()\n",
    "print(\"Email enviado com sucesso!\")"
   ]
  }
 ],
 "metadata": {
  "kernelspec": {
   "display_name": "env_wpp",
   "language": "python",
   "name": "python3"
  },
  "language_info": {
   "codemirror_mode": {
    "name": "ipython",
    "version": 3
   },
   "file_extension": ".py",
   "mimetype": "text/x-python",
   "name": "python",
   "nbconvert_exporter": "python",
   "pygments_lexer": "ipython3",
   "version": "3.12.4"
  }
 },
 "nbformat": 4,
 "nbformat_minor": 5
}
